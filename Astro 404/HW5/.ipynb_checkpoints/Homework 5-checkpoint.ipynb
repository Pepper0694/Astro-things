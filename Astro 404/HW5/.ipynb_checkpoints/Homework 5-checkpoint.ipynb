{
 "cells": [
  {
   "cell_type": "markdown",
   "metadata": {},
   "source": [
    "# Problem 1 a\n"
   ]
  },
  {
   "cell_type": "code",
   "execution_count": 11,
   "metadata": {
    "collapsed": true
   },
   "outputs": [],
   "source": [
    "import numpy as np\n",
    "\n",
    "dxi = (np.pi)/4\n",
    "theta1 = 1-(1/6)*(dxi**2)\n",
    "theta2 = -(1/3)*dxi\n",
    "i_list = np.arange(1,6)"
   ]
  },
  {
   "cell_type": "code",
   "execution_count": 12,
   "metadata": {
    "collapsed": true
   },
   "outputs": [],
   "source": [
    "def theta1iplus1(theta1i, theta2i, dxi):\n",
    "    theta1 = theta1i + theta2i*dxi\n",
    "    return theta1\n",
    "\n",
    "def theta2iplus1(i, theta1i, theta2i, dxi):\n",
    "    theta2 = (((i*dxi)/((i+1)*dxi))**2)*(theta2i - (theta1i**1.5)*dxi)\n",
    "    return theta2"
   ]
  },
  {
   "cell_type": "code",
   "execution_count": 13,
   "metadata": {
    "collapsed": false
   },
   "outputs": [
    {
     "name": "stdout",
     "output_type": "stream",
     "text": [
      "[0.7853981633974483, 1.5707963267948966, 2.3561944901923448, 3.1415926535897931, 3.9269908169872414, 4.7123889803846897]\n",
      "[0.8971916208219859, 0.6915748624659577, 0.50911748647508936, 0.27035278687800995, 0.01000157307384153, -0.21211847940569731]\n",
      "[-0.2617993877991494, -0.23231194634018565, -0.30400465741381327, -0.33148946093526643, -0.2828120344955985, -0.19694279027061104]\n"
     ]
    }
   ],
   "source": [
    "t1i =[]\n",
    "t2i = []\n",
    "xi = []\n",
    "t1i.append(theta1)\n",
    "t2i.append(theta2)\n",
    "xi.append(dxi)\n",
    "\n",
    "for i in i_list:\n",
    "    y = theta1\n",
    "    theta1 = theta1iplus1(theta1, theta2, dxi)\n",
    "    theta2 = theta2iplus1(i, y, theta2, dxi)\n",
    "    t1i.append(theta1)\n",
    "    t2i.append(theta2)\n",
    "    xi.append((i+1)*dxi)\n",
    "print(xi)\n",
    "print(t1i)\n",
    "print(t2i)\n",
    "\n",
    "    \n"
   ]
  },
  {
   "cell_type": "markdown",
   "metadata": {},
   "source": [
    "# Problem 1 c\n"
   ]
  },
  {
   "cell_type": "code",
   "execution_count": 14,
   "metadata": {
    "collapsed": true
   },
   "outputs": [],
   "source": [
    "dxi = (np.pi)/8\n",
    "theta1 = 1-(1/6)*(dxi**2)\n",
    "theta2 = -(1/3)*dxi\n",
    "i_list = np.arange(1,11)"
   ]
  },
  {
   "cell_type": "code",
   "execution_count": 15,
   "metadata": {
    "collapsed": true
   },
   "outputs": [],
   "source": [
    "def theta1iplus1(theta1i, theta2i, dxi):\n",
    "    theta1 = theta1i + theta2i*dxi\n",
    "    return theta1\n",
    "\n",
    "def theta2iplus1(i, theta1i, theta2i, dxi):\n",
    "    theta2 = (((i*dxi)/((i+1)*dxi))**2)*(theta2i - (theta1i**1.5)*dxi)\n",
    "    return theta2"
   ]
  },
  {
   "cell_type": "code",
   "execution_count": 16,
   "metadata": {
    "collapsed": false
   },
   "outputs": [
    {
     "name": "stdout",
     "output_type": "stream",
     "text": [
      "[0.39269908169872414, 0.78539816339744828, 1.1780972450961724, 1.5707963267948966, 1.9634954084936207, 2.3561944901923448, 2.748893571891069, 3.1415926535897931, 3.5342917352885173, 3.9269908169872414, 4.3196898986859651]\n",
      "[0.9742979052054964, 0.9228937156164894, 0.87296627894582035, 0.79000972823895388, 0.67259470441158964, 0.52814666850950887, 0.36876274767033024, 0.20817750096805654, 0.058789726468260139, -0.070818576889471962, -0.17758186399011811]\n",
      "[-0.1308996938995747, -0.12713917347271253, -0.21124712170962015, -0.29899490296604314, -0.36783390293970747, -0.40586782161476198, -0.40892697280477353, -0.38041284398623981, -0.33004483432219139, -0.27187047812491238, nan]\n"
     ]
    },
    {
     "name": "stderr",
     "output_type": "stream",
     "text": [
      "C:\\Users\\nickl\\Anaconda3\\lib\\site-packages\\ipykernel\\__main__.py:6: RuntimeWarning: invalid value encountered in double_scalars\n"
     ]
    }
   ],
   "source": [
    "t1i =[]\n",
    "t2i = []\n",
    "xi = []\n",
    "t1i.append(theta1)\n",
    "t2i.append(theta2)\n",
    "xi.append(dxi)\n",
    "\n",
    "for i in i_list:\n",
    "    y = theta1\n",
    "    theta1 = theta1iplus1(theta1, theta2, dxi)\n",
    "    theta2 = theta2iplus1(i, y, theta2, dxi)\n",
    "    t1i.append(theta1)\n",
    "    t2i.append(theta2)\n",
    "    xi.append((i+1)*dxi)\n",
    "print(xi)\n",
    "print(t1i)\n",
    "print(t2i)"
   ]
  },
  {
   "cell_type": "markdown",
   "metadata": {},
   "source": [
    "# Problem 4\n"
   ]
  },
  {
   "cell_type": "code",
   "execution_count": 17,
   "metadata": {
    "collapsed": false
   },
   "outputs": [
    {
     "name": "stdout",
     "output_type": "stream",
     "text": [
      "4.702623166448819e+20\n",
      "5.5517079048354125e+22\n"
     ]
    }
   ],
   "source": [
    "Msun = 1.9885*(10**30)\n",
    "Lsun = 3.827*(10**27)\n",
    "c = 3*(10**8)\n",
    "\n",
    "Llower = 10**(-4.3)\n",
    "Lupper = 10**(6.006)\n",
    "\n",
    "tlow = (.007*.072*Msun*(c**2))/(Llower*Lsun)\n",
    "tupper = (.1*.007*85*Msun*(c**2))/(Llower*Lsun)\n",
    "\n",
    "\n",
    "print(tlow)\n",
    "print(tupper)"
   ]
  },
  {
   "cell_type": "code",
   "execution_count": null,
   "metadata": {
    "collapsed": true
   },
   "outputs": [],
   "source": []
  }
 ],
 "metadata": {
  "kernelspec": {
   "display_name": "Python 3",
   "language": "python",
   "name": "python3"
  },
  "language_info": {
   "codemirror_mode": {
    "name": "ipython",
    "version": 3
   },
   "file_extension": ".py",
   "mimetype": "text/x-python",
   "name": "python",
   "nbconvert_exporter": "python",
   "pygments_lexer": "ipython3",
   "version": "3.6.0"
  }
 },
 "nbformat": 4,
 "nbformat_minor": 2
}
