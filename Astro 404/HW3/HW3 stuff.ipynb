{
 "cells": [
  {
   "cell_type": "code",
   "execution_count": 5,
   "metadata": {
    "collapsed": true
   },
   "outputs": [],
   "source": [
    "import numpy as np\n",
    "import matplotlib.pyplot as plt"
   ]
  },
  {
   "cell_type": "code",
   "execution_count": 6,
   "metadata": {
    "collapsed": true
   },
   "outputs": [],
   "source": [
    "mp= 1.6726*(10**-27)\n",
    "rho= 10**(-6)\n",
    "me= 9.11*(10**-31)\n",
    "k= 1.38*(10**-23)\n",
    "h= 6.626*(10**-34)\n",
    "chi= 2.179*(10**-18)\n",
    "b = (mp/rho)*(((2*np.pi*me*k)/(h**2))**(3/2))"
   ]
  },
  {
   "cell_type": "code",
   "execution_count": 7,
   "metadata": {
    "collapsed": true
   },
   "outputs": [],
   "source": [
    "def ion_fraction(t):\n",
    "    a= (b*(np.exp(-chi/(k*t)))*(t**(3/2)))\n",
    "    x = -a + np.sqrt(((a)**2) + (4*a))\n",
    "    return x/2\n",
    "\n",
    "t = np.arange(5000., 25000.)\n"
   ]
  },
  {
   "cell_type": "code",
   "execution_count": 8,
   "metadata": {
    "collapsed": false
   },
   "outputs": [
    {
     "data": {
      "image/png": "[encoded data removed]",
      "text/plain": [
       "<matplotlib.figure.Figure at 0x2344632bb38>"
      ]
     },
     "metadata": {},
     "output_type": "display_data"
    }
   ],
   "source": [
    "plt.figure()\n",
    "plt.xlabel(\"Temp (K)\")\n",
    "plt.ylabel(\"Ion Fraction (N(II)/N(H)\")\n",
    "plt.title(\"Hydroden Ionization\")\n",
    "plt.plot(t, ion_fraction(t), 'b')\n",
    "plt.show()"
   ]
  },
  {
   "cell_type": "code",
   "execution_count": null,
   "metadata": {
    "collapsed": true
   },
   "outputs": [],
   "source": []
  }
 ],
 "metadata": {
  "kernelspec": {
   "display_name": "Python 3",
   "language": "python",
   "name": "python3"
  },
  "language_info": {
   "codemirror_mode": {
    "name": "ipython",
    "version": 3
   },
   "file_extension": ".py",
   "mimetype": "text/x-python",
   "name": "python",
   "nbconvert_exporter": "python",
   "pygments_lexer": "ipython3",
   "version": "3.6.0"
  }
 },
 "nbformat": 4,
 "nbformat_minor": 2
}
